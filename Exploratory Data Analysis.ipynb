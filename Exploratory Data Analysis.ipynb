{
 "cells": [
  {
   "cell_type": "code",
   "execution_count": 54,
   "metadata": {},
   "outputs": [
    {
     "data": {
      "text/plain": [
       "(5580035, 24)"
      ]
     },
     "execution_count": 54,
     "metadata": {},
     "output_type": "execute_result"
    }
   ],
   "source": [
    "import pandas as pd\n",
    "import numpy as np\n",
    "import seaborn as sb\n",
    "\n",
    "pd.set_option('display.max_columns', None)\n",
    "\n",
    "df = pd.read_csv('NYPD_Complaint_Data_Historic.csv')\n",
    "df.shape"
   ]
  },
  {
   "cell_type": "code",
   "execution_count": 55,
   "metadata": {},
   "outputs": [
    {
     "data": {
      "text/plain": [
       "CMPLNT_FR_DT             655\n",
       "CMPLNT_FR_TM              48\n",
       "CMPLNT_TO_DT         1472786\n",
       "CMPLNT_TO_TM         1468882\n",
       "OFNS_DESC              18892\n",
       "PD_CD                   4909\n",
       "PD_DESC                 4909\n",
       "CRM_ATPT_CPTD_CD           7\n",
       "BORO_NM                  463\n",
       "ADDR_PCT_CD              390\n",
       "LOC_OF_OCCUR_DESC    1223392\n",
       "PREM_TYP_DESC          35198\n",
       "PARKS_NM             5567497\n",
       "HADEVELOPT           5302218\n",
       "X_COORD_CD            195868\n",
       "Y_COORD_CD            195868\n",
       "Latitude              195868\n",
       "Longitude             195868\n",
       "Lat_Lon               195868\n",
       "dtype: int64"
      ]
     },
     "execution_count": 55,
     "metadata": {},
     "output_type": "execute_result"
    }
   ],
   "source": [
    "null_cols = df.columns[df.isnull().any()]\n",
    "df[null_cols].isnull().sum()"
   ]
  },
  {
   "cell_type": "code",
   "execution_count": 56,
   "metadata": {},
   "outputs": [],
   "source": [
    "to_drop = ['CMPLNT_TO_DT', 'CMPLNT_TO_TM', 'PARKS_NM', 'HADEVELOPT']\n",
    "df.drop(to_drop, axis=1, inplace=True)"
   ]
  },
  {
   "cell_type": "code",
   "execution_count": 57,
   "metadata": {},
   "outputs": [
    {
     "name": "stderr",
     "output_type": "stream",
     "text": [
      "/anaconda/lib/python2.7/site-packages/ipykernel_launcher.py:2: SettingWithCopyWarning: \n",
      "A value is trying to be set on a copy of a slice from a DataFrame.\n",
      "Try using .loc[row_indexer,col_indexer] = value instead\n",
      "\n",
      "See the caveats in the documentation: http://pandas.pydata.org/pandas-docs/stable/indexing.html#indexing-view-versus-copy\n",
      "  \n"
     ]
    },
    {
     "name": "stdout",
     "output_type": "stream",
     "text": [
      "(1273279, 20)\n"
     ]
    },
    {
     "data": {
      "text/html": [
       "<div>\n",
       "<style>\n",
       "    .dataframe thead tr:only-child th {\n",
       "        text-align: right;\n",
       "    }\n",
       "\n",
       "    .dataframe thead th {\n",
       "        text-align: left;\n",
       "    }\n",
       "\n",
       "    .dataframe tbody tr th {\n",
       "        vertical-align: top;\n",
       "    }\n",
       "</style>\n",
       "<table border=\"1\" class=\"dataframe\">\n",
       "  <thead>\n",
       "    <tr style=\"text-align: right;\">\n",
       "      <th></th>\n",
       "      <th>CMPLNT_NUM</th>\n",
       "      <th>CMPLNT_FR_DT</th>\n",
       "      <th>CMPLNT_FR_TM</th>\n",
       "      <th>RPT_DT</th>\n",
       "      <th>KY_CD</th>\n",
       "      <th>OFNS_DESC</th>\n",
       "      <th>PD_CD</th>\n",
       "      <th>PD_DESC</th>\n",
       "      <th>CRM_ATPT_CPTD_CD</th>\n",
       "      <th>LAW_CAT_CD</th>\n",
       "      <th>JURIS_DESC</th>\n",
       "      <th>BORO_NM</th>\n",
       "      <th>ADDR_PCT_CD</th>\n",
       "      <th>LOC_OF_OCCUR_DESC</th>\n",
       "      <th>PREM_TYP_DESC</th>\n",
       "      <th>X_COORD_CD</th>\n",
       "      <th>Y_COORD_CD</th>\n",
       "      <th>Latitude</th>\n",
       "      <th>Longitude</th>\n",
       "      <th>Lat_Lon</th>\n",
       "    </tr>\n",
       "  </thead>\n",
       "  <tbody>\n",
       "    <tr>\n",
       "      <th>2</th>\n",
       "      <td>569369778</td>\n",
       "      <td>12/31/2015</td>\n",
       "      <td>23:30:00</td>\n",
       "      <td>12/31/2015</td>\n",
       "      <td>117</td>\n",
       "      <td>DANGEROUS DRUGS</td>\n",
       "      <td>503.0</td>\n",
       "      <td>CONTROLLED SUBSTANCE,INTENT TO</td>\n",
       "      <td>COMPLETED</td>\n",
       "      <td>FELONY</td>\n",
       "      <td>N.Y. POLICE DEPT</td>\n",
       "      <td>MANHATTAN</td>\n",
       "      <td>28.0</td>\n",
       "      <td>NA</td>\n",
       "      <td>OTHER</td>\n",
       "      <td>999463.0</td>\n",
       "      <td>231690.0</td>\n",
       "      <td>40.802607</td>\n",
       "      <td>-73.945052</td>\n",
       "      <td>(40.802606608, -73.945051911)</td>\n",
       "    </tr>\n",
       "    <tr>\n",
       "      <th>4</th>\n",
       "      <td>641637920</td>\n",
       "      <td>12/31/2015</td>\n",
       "      <td>23:25:00</td>\n",
       "      <td>12/31/2015</td>\n",
       "      <td>344</td>\n",
       "      <td>ASSAULT 3 &amp; RELATED OFFENSES</td>\n",
       "      <td>101.0</td>\n",
       "      <td>ASSAULT 3</td>\n",
       "      <td>COMPLETED</td>\n",
       "      <td>MISDEMEANOR</td>\n",
       "      <td>N.Y. POLICE DEPT</td>\n",
       "      <td>MANHATTAN</td>\n",
       "      <td>13.0</td>\n",
       "      <td>FRONT OF</td>\n",
       "      <td>OTHER</td>\n",
       "      <td>987606.0</td>\n",
       "      <td>208148.0</td>\n",
       "      <td>40.738002</td>\n",
       "      <td>-73.987891</td>\n",
       "      <td>(40.7380024, -73.98789129)</td>\n",
       "    </tr>\n",
       "    <tr>\n",
       "      <th>6</th>\n",
       "      <td>608231454</td>\n",
       "      <td>12/31/2015</td>\n",
       "      <td>23:15:00</td>\n",
       "      <td>12/31/2015</td>\n",
       "      <td>235</td>\n",
       "      <td>DANGEROUS DRUGS</td>\n",
       "      <td>511.0</td>\n",
       "      <td>CONTROLLED SUBSTANCE, POSSESSI</td>\n",
       "      <td>COMPLETED</td>\n",
       "      <td>MISDEMEANOR</td>\n",
       "      <td>N.Y. POLICE DEPT</td>\n",
       "      <td>MANHATTAN</td>\n",
       "      <td>7.0</td>\n",
       "      <td>OPPOSITE OF</td>\n",
       "      <td>STREET</td>\n",
       "      <td>987373.0</td>\n",
       "      <td>201662.0</td>\n",
       "      <td>40.720200</td>\n",
       "      <td>-73.988735</td>\n",
       "      <td>(40.720199996, -73.988735082)</td>\n",
       "    </tr>\n",
       "    <tr>\n",
       "      <th>9</th>\n",
       "      <td>415095955</td>\n",
       "      <td>12/31/2015</td>\n",
       "      <td>23:10:00</td>\n",
       "      <td>12/31/2015</td>\n",
       "      <td>341</td>\n",
       "      <td>PETIT LARCENY</td>\n",
       "      <td>338.0</td>\n",
       "      <td>LARCENY,PETIT FROM BUILDING,UN</td>\n",
       "      <td>COMPLETED</td>\n",
       "      <td>MISDEMEANOR</td>\n",
       "      <td>N.Y. POLICE DEPT</td>\n",
       "      <td>MANHATTAN</td>\n",
       "      <td>19.0</td>\n",
       "      <td>INSIDE</td>\n",
       "      <td>DRUG STORE</td>\n",
       "      <td>994327.0</td>\n",
       "      <td>218211.0</td>\n",
       "      <td>40.765618</td>\n",
       "      <td>-73.963623</td>\n",
       "      <td>(40.765617688, -73.96362342)</td>\n",
       "    </tr>\n",
       "    <tr>\n",
       "      <th>11</th>\n",
       "      <td>178090167</td>\n",
       "      <td>12/31/2015</td>\n",
       "      <td>23:00:00</td>\n",
       "      <td>12/31/2015</td>\n",
       "      <td>341</td>\n",
       "      <td>PETIT LARCENY</td>\n",
       "      <td>338.0</td>\n",
       "      <td>LARCENY,PETIT FROM BUILDING,UN</td>\n",
       "      <td>COMPLETED</td>\n",
       "      <td>MISDEMEANOR</td>\n",
       "      <td>N.Y. POLICE DEPT</td>\n",
       "      <td>MANHATTAN</td>\n",
       "      <td>13.0</td>\n",
       "      <td>INSIDE</td>\n",
       "      <td>RESTAURANT/DINER</td>\n",
       "      <td>988113.0</td>\n",
       "      <td>206263.0</td>\n",
       "      <td>40.732828</td>\n",
       "      <td>-73.986063</td>\n",
       "      <td>(40.732828332, -73.986062857)</td>\n",
       "    </tr>\n",
       "  </tbody>\n",
       "</table>\n",
       "</div>"
      ],
      "text/plain": [
       "    CMPLNT_NUM CMPLNT_FR_DT CMPLNT_FR_TM      RPT_DT  KY_CD  \\\n",
       "2    569369778   12/31/2015     23:30:00  12/31/2015    117   \n",
       "4    641637920   12/31/2015     23:25:00  12/31/2015    344   \n",
       "6    608231454   12/31/2015     23:15:00  12/31/2015    235   \n",
       "9    415095955   12/31/2015     23:10:00  12/31/2015    341   \n",
       "11   178090167   12/31/2015     23:00:00  12/31/2015    341   \n",
       "\n",
       "                       OFNS_DESC  PD_CD                         PD_DESC  \\\n",
       "2                DANGEROUS DRUGS  503.0  CONTROLLED SUBSTANCE,INTENT TO   \n",
       "4   ASSAULT 3 & RELATED OFFENSES  101.0                       ASSAULT 3   \n",
       "6                DANGEROUS DRUGS  511.0  CONTROLLED SUBSTANCE, POSSESSI   \n",
       "9                  PETIT LARCENY  338.0  LARCENY,PETIT FROM BUILDING,UN   \n",
       "11                 PETIT LARCENY  338.0  LARCENY,PETIT FROM BUILDING,UN   \n",
       "\n",
       "   CRM_ATPT_CPTD_CD   LAW_CAT_CD        JURIS_DESC    BORO_NM  ADDR_PCT_CD  \\\n",
       "2         COMPLETED       FELONY  N.Y. POLICE DEPT  MANHATTAN         28.0   \n",
       "4         COMPLETED  MISDEMEANOR  N.Y. POLICE DEPT  MANHATTAN         13.0   \n",
       "6         COMPLETED  MISDEMEANOR  N.Y. POLICE DEPT  MANHATTAN          7.0   \n",
       "9         COMPLETED  MISDEMEANOR  N.Y. POLICE DEPT  MANHATTAN         19.0   \n",
       "11        COMPLETED  MISDEMEANOR  N.Y. POLICE DEPT  MANHATTAN         13.0   \n",
       "\n",
       "   LOC_OF_OCCUR_DESC     PREM_TYP_DESC  X_COORD_CD  Y_COORD_CD   Latitude  \\\n",
       "2                 NA             OTHER    999463.0    231690.0  40.802607   \n",
       "4           FRONT OF             OTHER    987606.0    208148.0  40.738002   \n",
       "6        OPPOSITE OF            STREET    987373.0    201662.0  40.720200   \n",
       "9             INSIDE        DRUG STORE    994327.0    218211.0  40.765618   \n",
       "11            INSIDE  RESTAURANT/DINER    988113.0    206263.0  40.732828   \n",
       "\n",
       "    Longitude                        Lat_Lon  \n",
       "2  -73.945052  (40.802606608, -73.945051911)  \n",
       "4  -73.987891     (40.7380024, -73.98789129)  \n",
       "6  -73.988735  (40.720199996, -73.988735082)  \n",
       "9  -73.963623   (40.765617688, -73.96362342)  \n",
       "11 -73.986063  (40.732828332, -73.986062857)  "
      ]
     },
     "execution_count": 57,
     "metadata": {},
     "output_type": "execute_result"
    }
   ],
   "source": [
    "manhattan = df[df['BORO_NM'] == 'MANHATTAN']\n",
    "manhattan['LOC_OF_OCCUR_DESC'] = manhattan['LOC_OF_OCCUR_DESC'].fillna('NA')\n",
    "manhattan = manhattan.dropna(axis=0, how='any')\n",
    "print manhattan.shape\n",
    "manhattan.head()"
   ]
  },
  {
   "cell_type": "code",
   "execution_count": 58,
   "metadata": {},
   "outputs": [
    {
     "data": {
      "text/plain": [
       "CMPLNT_NUM             int64\n",
       "CMPLNT_FR_DT          object\n",
       "CMPLNT_FR_TM          object\n",
       "RPT_DT                object\n",
       "KY_CD                  int64\n",
       "OFNS_DESC             object\n",
       "PD_CD                float64\n",
       "PD_DESC               object\n",
       "CRM_ATPT_CPTD_CD      object\n",
       "LAW_CAT_CD            object\n",
       "JURIS_DESC            object\n",
       "BORO_NM               object\n",
       "ADDR_PCT_CD          float64\n",
       "LOC_OF_OCCUR_DESC     object\n",
       "PREM_TYP_DESC         object\n",
       "X_COORD_CD           float64\n",
       "Y_COORD_CD           float64\n",
       "Latitude             float64\n",
       "Longitude            float64\n",
       "Lat_Lon               object\n",
       "dtype: object"
      ]
     },
     "execution_count": 58,
     "metadata": {},
     "output_type": "execute_result"
    }
   ],
   "source": [
    "manhattan.dtypes"
   ]
  },
  {
   "cell_type": "code",
   "execution_count": 59,
   "metadata": {},
   "outputs": [],
   "source": [
    "\n",
    "manhattan['CMPLNT_FR_YEAR'] = manhattan['CMPLNT_FR_DT'].map(lambda x: int(x.split('/')[2]))\n",
    "manhattan['CMPLNT_FR_MONTH'] = manhattan['CMPLNT_FR_DT'].map(lambda x: int(x.split('/')[0]))\n",
    "manhattan['CMPLNT_FR_DAY'] = manhattan['CMPLNT_FR_DT'].map(lambda x: int(x.split('/')[1]))\n",
    "manhattan['CMPLNT_FR_HOUR'] = manhattan['CMPLNT_FR_TM'].map(lambda x: int(x.split(':')[0]))\n",
    "manhattan.drop('CMPLNT_FR_DT', axis=1, inplace=True)\n",
    "# the data is only valid from year 2006 yo 2016, so here ignore any previous data\n",
    "manhattan = manhattan[manhattan['CMPLNT_FR_YEAR'] > 2005]"
   ]
  },
  {
   "cell_type": "code",
   "execution_count": 60,
   "metadata": {},
   "outputs": [
    {
     "data": {
      "text/plain": [
       "<matplotlib.axes._subplots.AxesSubplot at 0x11d339210>"
      ]
     },
     "execution_count": 60,
     "metadata": {},
     "output_type": "execute_result"
    },
    {
     "data": {
      "image/png": "[encoded data removed]",
      "text/plain": [
       "<matplotlib.figure.Figure at 0x11b7c32d0>"
      ]
     },
     "metadata": {},
     "output_type": "display_data"
    }
   ],
   "source": [
    "# explore number of felony incidents in Manhattan as relationship of year\n",
    "felony = manhattan[manhattan['LAW_CAT_CD'] == 'FELONY']\n",
    "sb.countplot(x='CMPLNT_FR_YEAR', data=felony)"
   ]
  },
  {
   "cell_type": "code",
   "execution_count": 61,
   "metadata": {},
   "outputs": [
    {
     "data": {
      "text/plain": [
       "<matplotlib.axes._subplots.AxesSubplot at 0x118813d90>"
      ]
     },
     "execution_count": 61,
     "metadata": {},
     "output_type": "execute_result"
    },
    {
     "data": {
      "image/png": "[encoded data removed]",
      "text/plain": [
       "<matplotlib.figure.Figure at 0x1df9fe0d0>"
      ]
     },
     "metadata": {},
     "output_type": "display_data"
    }
   ],
   "source": [
    "# explore drug related compliants among different percincts\n",
    "sb.countplot(x='ADDR_PCT_CD', data=manhattan[manhattan['OFNS_DESC'] == 'DANGEROUS DRUGS'])"
   ]
  },
  {
   "cell_type": "code",
   "execution_count": null,
   "metadata": {
    "collapsed": true
   },
   "outputs": [],
   "source": []
  }
 ],
 "metadata": {
  "kernelspec": {
   "display_name": "Python 2",
   "language": "python",
   "name": "python2"
  },
  "language_info": {
   "codemirror_mode": {
    "name": "ipython",
    "version": 2
   },
   "file_extension": ".py",
   "mimetype": "text/x-python",
   "name": "python",
   "nbconvert_exporter": "python",
   "pygments_lexer": "ipython2",
   "version": "2.7.13"
  }
 },
 "nbformat": 4,
 "nbformat_minor": 2
}
